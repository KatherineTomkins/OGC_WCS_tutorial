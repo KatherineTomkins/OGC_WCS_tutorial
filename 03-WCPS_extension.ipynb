{
 "cells": [
  {
   "cell_type": "markdown",
   "metadata": {},
   "source": [
    "# 03-Extension to the WCS core: Web Coverage Processing Service"
   ]
  },
  {
   "cell_type": "markdown",
   "metadata": {},
   "source": [
    "<a href=\"./02-WCS_core_requests.ipynb\"><< 02-WCS core requests</a>&nbsp;<space>&nbsp;<space>&nbsp;<space>&nbsp;<space>&nbsp;<space>&nbsp;<space>&nbsp;<space>&nbsp;<space>&nbsp;<space>&nbsp;<space> <a href=\"./04-WCS_access.ipynb\">04-How to develop and test WCS queries?>></a>"
   ]
  },
  {
   "cell_type": "markdown",
   "metadata": {},
   "source": [
    "This tutorial is a practical introduction into the Web Coverage Processing Service.  \n",
    "Examples include:\n",
    "- [Basic WCPS request](#basic_wcps)\n",
    "- [Mathematical operations with WCPS](#maths_wcps)\n",
    "- [On-the-fly color-scheme application with WCPS](#colouring_wcps)\n",
    "    "
   ]
  },
  {
   "cell_type": "markdown",
   "metadata": {},
   "source": [
    "***"
   ]
  },
  {
   "cell_type": "markdown",
   "metadata": {},
   "source": [
    "## Web Coverage Processing Service (WCPS) requests"
   ]
  },
  {
   "cell_type": "markdown",
   "metadata": {},
   "source": [
    "The [previous tutorial](./02-WCS_core_requests.ipynb) explained the principal setup of WCS requests. A Web Coverage Processing Service (WCPS) is an extension of the WCS core suite. A WCPS has the same setup as a WCS and consists of three components:\n",
    "* Service endpoint,\n",
    "* request type and\n",
    "* query parameter.\n"
   ]
  },
  {
   "cell_type": "markdown",
   "metadata": {},
   "source": [
    " \n",
    "> **Service endpoint with service description** remained unchanged:  \n",
    "<font color=\"blue\">http://earthserver.ecmwf.int/rasdaman/ows?service=WCS&version=2.0.1</font>"
   ]
  },
  {
   "cell_type": "markdown",
   "metadata": {},
   "source": [
    "> **Request type:**  \n",
    "The processing extension defines an additonal request type:\n",
    "- [<font color=\"blue\">ProcessCoverages</font>](#wcps_examples)"
   ]
  },
  {
   "cell_type": "markdown",
   "metadata": {},
   "source": [
    "> **Query parameter:**  \n",
    "Based on a text-based *SQL-like* query language, data can be accessed, modified and retrieved.   \n",
    "The principal setup of a query is:  \n",
    "\n",
    "\n",
    "   >> <font color=\"blue\">&query=for c in (</font><font color=\"green\"><i><b>coverageId</b></i></font><font color=\"blue\">) return encode (c</font><font color=\"orange\"><i><b>[...]</b></i></font><font color=\"blue\">, \"</font><font color=\"purple\"><i><b>format</b></i></font><font color=\"blue\">\")</font>,</p>\n",
    "\n",
    ">with:\n",
    "* <font color=\"green\"><i><b>coverageId: </b></i></font> <font>  specifies the parameter (coverage) the query shall be applied on.  \n",
    "     \n",
    "     \n",
    "     >> Example: <font color=\"green\"><i><b>temp2m</b></i></font> for ERA-interim 2m air temperature\n",
    "     \n",
    "     \n",
    "     > * <font color=\"orange\"><i><b>[...]</b></i></font>:    specifies the data or subset of data to work with. You can subset any axis of the coverage.\n",
    "\n",
    "\n",
    "     >> Example: the coverage temp2m has three axes: Lat, Long, ansi, and subsets of all three axes can be defined as: <font color=\"orange\"><i><b>[Lat(-10.0:10.0), Long(-10.0:10.0), ansi(\"1999-01-01T00:00\":\"1999-01-31T18:00\")]</b></i></font>.  \n",
    "\n",
    "\n",
    "> * <font color=\"purple\"><i><b>format</b></i></font>: the implied output format can be specified here.\n",
    "\n",
    "\n",
    "     >> Possible format encodings are:\n",
    "* <font color=\"purple\"><b>csv</b></font>\n",
    "* <font color=\"purple\"><b>netcdf</b></font> or\n",
    "* <font color=\"purple\"><b>png</b></font>  \n"
   ]
  },
  {
   "cell_type": "markdown",
   "metadata": {},
   "source": [
    "***"
   ]
  },
  {
   "cell_type": "markdown",
   "metadata": {},
   "source": [
    "## <a id='wcps_examples'></a>Examples: WCPS requests"
   ]
  },
  {
   "cell_type": "markdown",
   "metadata": {},
   "source": [
    "The following examples show a variety of WCPS queries and mathematical operations that can be applied to the data of a WCS Server. Examples base on ERA-interim 2m air temperature global fields, 6-hourly values from 1 January 1979 to 31 December 2015"
   ]
  },
  {
   "cell_type": "markdown",
   "metadata": {},
   "source": [
    "### <a id='basic_wcps'></a><font color=\"black\">Basic WCPS requests</font>"
   ]
  },
  {
   "cell_type": "markdown",
   "metadata": {},
   "source": [
    "* Retrieve **2m air temperature in Kelvin for Italy for 15 January 1999 at 12 UTC** encoded as **csv**     \n",
    "\n",
    "(*Note: csv output is suitable for further data processing and integrating data request into processing routines in Python for example*) \n",
    "\n",
    "<p><font color=\"blue\"><a href='http://earthserver.ecmwf.int/rasdaman/ows?service=WCS&version=2.0.1&request=ProcessCoverages&query=for c in (temp2m) return encode(c[Lat(35.4:47.1), Long(6.6:18.5),ansi(\"1999-01-15T12:00\")],\"csv\")' target=\"_blank\"> http://earthserver.ecmwf.int/rasdaman/ows?service=WCS&version=2.0.1&request=ProcessCoverages&query=for c in (temp2m) return encode(c[Lat(35.4:47.1), Long(6.6:18.5),ansi(\"1999-01-15T12:00\")],\"csv\")</a></font></p>"
   ]
  },
  {
   "cell_type": "markdown",
   "metadata": {},
   "source": [
    "* Retrieve **2m air temperature in Kelvin for Europe for 10 January 1999 at 12 UTC** encoded as **netCDF**  \n",
    "\n",
    "<p><font color=\"blue\"><a href='http://earthserver.ecmwf.int/rasdaman/ows?service=WCS&version=2.0.1&request=ProcessCoverages&query=for c in (temp2m) return encode(c[Lat(-35.0:65.0), Long(-35.0:80.0),ansi(\"1999-01-12T12:00\")],\"netcdf\")' target=\"_blank\"> http://earthserver.ecmwf.int/rasdaman/ows?service=WCS&version=2.0.1&request=ProcessCoverages&query=for c in (temp2m) return encode(c[Lat(-35.0:65.0), Long(35.0:80.0),ansi(\"1999-01-12T12:00\")],\"netcdf\")</a></font></p>"
   ]
  },
  {
   "cell_type": "markdown",
   "metadata": {},
   "source": [
    "  \n",
    "**Note**: Both queries above do not require WCPS per se. Same data can be rerieved with WCS core requests."
   ]
  },
  {
   "cell_type": "markdown",
   "metadata": {},
   "source": [
    "### <a id='maths_wcps'></a><font color=\"black\">Conduct mathematical operations with WCPS</font>"
   ]
  },
  {
   "cell_type": "markdown",
   "metadata": {},
   "source": [
    "Get the **minimum, maximum and mean temperature in degree celsius** of Berlin for the year 2003\n",
    "\n",
    "There are already predefined <font color=\"purple\"><b>operators</b></font> for retrieving the minimum, maximum and mean: min(), max() and avg(). We additionally convert the 2m air temperature in K into degC via a <font color=\"green\"><b>simple subtraction</b></font>.\n",
    "\n",
    "* **Minimum**  \n",
    "\n",
    ">for c in (temp2m) return encode (<font color=\"purple\"><b>min (</b></font> c[Lat(52), Long(13),ansi(\"2003-01-01T00:00\":\"2003-12-31T18:00\")] <font color=\"purple\"><b>)</b></font><font color=\"green\"> <b>- 273.15</b></font>,\"csv\")\n",
    "<p><a href='http://earthserver.ecmwf.int/rasdaman/ows?service=WCS&version=2.0.1&request=ProcessCoverages&query=for c in (temp2m) return encode( min(c[Lat(52), Long(13),ansi(\"2003-01-01T00:00\":\"2003-12-31T18:00\")]) - 273.15,\"csv\")' target=\"_blank\"> http://earthserver.ecmwf.int/rasdaman/ows?service=WCS&version=2.0.1&request=ProcessCoverages&query=for c in (temp2m) return encode(min (c[Lat(52), Long(13),ansi(\"2003-01-01T00:00\":\"2003-12-31T18:00\")]) - 273.15,\"csv\")</a></p>\n",
    "\n",
    "* **Maximum**\n",
    "   \n",
    ">for c in (temp2m) return encode (<font color=\"purple\"><b>max (</b></font> c[Lat(52), Long(13),ansi(\"2003-01-01T00:00\":\"2003-12-31T18:00\")] <font color=\"purple\"><b>)</b></font><font color=\"green\"><b>- 273.15</b></font>,\"csv\")\n",
    "<p><a href='http://earthserver.ecmwf.int/rasdaman/ows?service=WCS&version=2.0.1&request=ProcessCoverages&query=for c in (temp2m) return encode( max(c[Lat(52), Long(13),ansi(\"2003-01-01T00:00\":\"2003-12-31T18:00\")]) - 273.15,\"csv\")' target=\"_blank\"> http://earthserver.ecmwf.int/rasdaman/ows?service=WCS&version=2.0.1&request=ProcessCoverages&query=for c in (temp2m) return encode(max (c[Lat(52), Long(13),ansi(\"2003-01-01T00:00\":\"2003-12-31T18:00\")]) - 273.15,\"csv\")</a></p>\n",
    "\n",
    "* **Average**\n",
    "   \n",
    ">for c in (temp2m) return encode (<font color=\"purple\"><b>avg (</b></font> c[Lat(52), Long(13),ansi(\"2003-01-01T00:00\":\"2003-12-31T18:00\")] <font color=\"purple\"><b>)</b></font><font color=\"green\"> <b>- 273.15</b></font>,\"csv\")\n",
    "<p><a href='http://earthserver.ecmwf.int/rasdaman/ows?service=WCS&version=2.0.1&request=ProcessCoverages&query=for c in (temp2m) return encode( avg(c[Lat(52), Long(13),ansi(\"2003-01-01T00:00\":\"2003-12-31T18:00\")]) - 273.15,\"csv\")' target=\"_blank\"> http://earthserver.ecmwf.int/rasdaman/ows?service=WCS&version=2.0.1&request=ProcessCoverages&query=for c in (temp2m) return encode(avg (c[Lat(52), Long(13),ansi(\"2003-01-01T00:00\":\"2003-12-31T18:00\")]) - 273.15,\"csv\")</a></p>\n",
    "\n",
    "\n",
    "With three simple queries, we retrieve the minimum, mamximum and average 2m air temperature of Berlin for the year 2003, which are -16 degC, 35.5 degC and 10.1 degC respectively.\n",
    "\n"
   ]
  },
  {
   "cell_type": "markdown",
   "metadata": {},
   "source": [
    "### <a id='colouring_wcps'></a><font color=\"black\">Apply a colour scheme to a png output</font>"
   ]
  },
  {
   "cell_type": "markdown",
   "metadata": {},
   "source": [
    "The switch statement allows to classify the png pixel values and to apply RGB colour codes to it. Below, there are two examples how predefined RGB colour codes for 2m air temperature and total precipitation can be applied on-the-fly.\n",
    "\n",
    "* **Colour scale for 2m air temperature on 18 June 2012 at 12 UTC in degrees Celsius**\n",
    "\n",
    "> <font color=\"blue\">for c in (temp2m) return encode (  \n",
    "**switch**  \n",
    "case -48 > c[ansi(\"2012-06-18T12:00\")] - 273.5 return {red: 0; green: 0; blue: 128}  \n",
    "case -44 > c[ansi(\"2012-06-18T12:00\")] - 273.5 return {red: 0; green: 0; blue: 128}  \n",
    "...   \n",
    "default return {red: 255; green: 0; blue:0},\"png\")</font>   \n",
    "<p><a href='http://earthserver.ecmwf.int/rasdaman/ows?service=WCS&version=2.0.1&request=ProcessCoverages&query=for c in (temp2m) return encode ( switch case -48 > c[ansi(\"2012-06-18T12:00\")] - 273.5 return {red: 0; green: 0; blue: 128} case -44 > c[ansi(\"2012-06-18T12:00\")] - 273.5 return {red: 0; green: 0; blue: 128} case -40 > c[ansi(\"2012-06-18T12:00\")] - 273.5 return {red: 0; green: 0; blue: 128} case -36 > c[ansi(\"2012-06-18T12:00\")] - 273.5 return {red: 0; green: 0; blue: 128} case -32 > c[ansi(\"2012-06-18T12:00\")] - 273.5 return {red: 0; green: 0; blue: 128} case -28 > c[ansi(\"2012-06-18T12:00\")] - 273.5 return {red: 0; green: 0; blue: 217} case -24 > c[ansi(\"2012-06-18T12:00\")] - 273.5 return {red: 64; green: 0; blue: 255} case -20 > c[ansi(\"2012-06-18T12:00\")] - 273.5 return {red: 128; green: 0; blue: 255} case -16 > c[ansi(\"2012-06-18T12:00\")] - 273.5 return {red: 0; green: 128; blue: 255} case -12 > c[ansi(\"2012-06-18T12:00\")] - 273.5 return {red: 0; green: 255; blue: 255} case -8 > c[ansi(\"2012-06-18T12:00\")] - 273.5 return {red: 0; green: 255; blue: 128} case -4 > c[ansi(\"2012-06-18T12:00\")] - 273.5 return {red: 128; green: 255; blue: 0} case -0 > c[ansi(\"2012-06-18T12:00\")] - 273.5 return {red: 218; green: 255; blue: 0} case 4 > c[ansi(\"2012-06-18T12:00\")] - 273.5 return {red: 255; green: 255; blue: 0} case 8 > c[ansi(\"2012-06-18T12:00\")] - 273.5 return {red: 255; green: 245; blue: 0} case 12 > c[ansi(\"2012-06-18T12:00\")] - 273.5 return {red: 255; green: 218; blue: 0} case 16 > c[ansi(\"2012-06-18T12:00\")] - 273.5 return {red: 255; green: 176; blue: 0} case 20 > c[ansi(\"2012-06-18T12:00\")] - 273.5 return {red: 255; green: 164; blue: 0} case 24 > c[ansi(\"2012-06-18T12:00\")] - 273.5 return {red: 255; green: 79; blue: 0} case 28 > c[ansi(\"2012-06-18T12:00\")] - 273.5 return {red: 255; green: 37; blue: 0} case 32 > c[ansi(\"2012-06-18T12:00\")] - 273.5 return {red: 255; green: 10; blue: 0} case 36 > c[ansi(\"2012-06-18T12:00\")] - 273.5 return {red: 255; green: 0; blue: 0} case 40 > c[ansi(\"2012-06-18T12:00\")] - 273.5 return {red: 255; green: 0; blue: 255} case 44 > c[ansi(\"2012-06-18T12:00\")] - 273.5 return {red: 255; green: 0; blue: 255} case 48 > c[ansi(\"2012-06-18T12:00\")] - 273.5 return {red: 255; green: 0; blue: 255} case 52 > c[ansi(\"2012-06-18T12:00\")] - 273.5 return {red: 255; green: 0; blue: 255} case 56 > c[ansi(\"2012-06-18T12:00\")] - 273.5 return {red: 255; green: 0; blue: 255}  default return {red: 255; green: 0; blue:0},\"png\")' target=\"_blank\"> http://earthserver.ecmwf.int/rasdaman/ows?service=WCS&version=2.0.1&request=ProcessCoverages&query=for c in (temp2m) return encode (switch case -48 > c[ansi(\"2012-06-18T12:00\")] - 273.5 return {red: 0; green: 0; blue: 128} case -44 > c[ansi(\"2012-06-18T12:00\")] - 273.5 return {red: 0; green: 0; blue: 128} case -40 > c[ansi(\"2012-06-18T12:00\")] - 273.5 return {red: 0; green: 0; blue: 128} case -36 > c[ansi(\"2012-06-18T12:00\")] - 273.5 return {red: 0; green: 0; blue: 128} case -32 > c[ansi(\"2012-06-18T12:00\")] - 273.5 return {red: 0; green: 0; blue: 128} case -28 > c[ansi(\"2012-06-18T12:00\")] - 273.5 return {red: 0; green: 0; blue: 217} case -24 > c[ansi(\"2012-06-18T12:00\")] - 273.5 return {red: 64; green: 0; blue: 255} case -20 > c[ansi(\"2012-06-18T12:00\")] - 273.5 return {red: 128; green: 0; blue: 255} case -16 > c[ansi(\"2012-06-18T12:00\")] - 273.5 return {red: 0; green: 128; blue: 255} case -12 > c[ansi(\"2012-06-18T12:00\")] - 273.5 return {red: 0; green: 255; blue: 255} case -8 > c[ansi(\"2012-06-18T12:00\")] - 273.5 return {red: 0; green: 255; blue: 128} case -4 > c[ansi(\"2012-06-18T12:00\")] - 273.5 return {red: 128; green: 255; blue: 0} case -0 > c[ansi(\"2012-06-18T12:00\")] - 273.5 return {red: 218; green: 255; blue: 0} case 4 > c[ansi(\"2012-06-18T12:00\")] - 273.5 return {red: 255; green: 255; blue: 0} case 8 > c[ansi(\"2012-06-18T12:00\")] - 273.5 return {red: 255; green: 245; blue: 0} case 12 > c[ansi(\"2012-06-18T12:00\")] - 273.5 return {red: 255; green: 218; blue: 0} case 16 > c[ansi(\"2012-06-18T12:00\")] - 273.5 return {red: 255; green: 176; blue: 0} case 20 > c[ansi(\"2012-06-18T12:00\")] - 273.5 return {red: 255; green: 164; blue: 0} case 24 > c[ansi(\"2012-06-18T12:00\")] - 273.5 return {red: 255; green: 79; blue: 0} case 28 > c[ansi(\"2012-06-18T12:00\")] - 273.5 return {red: 255; green: 37; blue: 0} case 32 > c[ansi(\"2012-06-18T12:00\")] - 273.5 return {red: 255; green: 10; blue: 0} case 36 > c[ansi(\"2012-06-18T12:00\")] - 273.5 return {red: 255; green: 0; blue: 0} case 40 > c[ansi(\"2012-06-18T12:00\")] - 273.5 return {red: 255; green: 0; blue: 255} case 44 > c[ansi(\"2012-06-18T12:00\")] - 273.5 return {red: 255; green: 0; blue: 255} case 48 > c[ansi(\"2012-06-18T12:00\")] - 273.5 return {red: 255; green: 0; blue: 255} case 52 > c[ansi(\"2012-06-18T12:00\")] - 273.5 return {red: 255; green: 0; blue: 255} case 56 > c[ansi(\"2012-06-18T12:00\")] - 273.5 return {red: 255; green: 0; blue: 255}  default return {red: 255; green: 0; blue:0},\"png\")</a></p>\n",
    "\n",
    "\n",
    "* **Total precipitation for 18 June 2016 at 12 UTC in mm of water**  \n",
    "By specifying alpha parameter of the RGB colour code, one can set specific values to transparent. In the case of total precipitation, all values with less than 0.5 mm of water are set to transparent.\n",
    "\n",
    "> <font color=\"blue\">for c in (precipitation) return encode (  \n",
    "**switch**  \n",
    "case 0.5 > c[ansi(\"2012-06-18T12:00\")] * 1000 return {red: 255; green: 255; blue: 255; alpha: 0}  \n",
    "case 2 > c[ansi(\"2012-06-18T12:00\")] * 1000 return {red: 0; green: 255; blue: 255; alpha: 255}  \n",
    "...   \n",
    "default return {red: 255; green: 0; blue:0; alpha: 255},\"png\")</font>\n",
    "<p><a href='http://earthserver.ecmwf.int/rasdaman/ows?service=WCS&version=2.0.1&request=ProcessCoverages&query=for c in (precipitation) return encode ( switch case 0.5 > c[ansi(\"2012-06-18T12:00\")] * 1000 return {red: 255; green: 255; blue: 255; alpha: 0} case 2 > c[ansi(\"2012-06-18T12:00\")] * 1000 return {red: 0; green: 255; blue: 255; alpha: 255} case 4 > c[ansi(\"2012-06-18T12:00\")] * 1000 return {red: 0; green: 128; blue: 255; alpha: 255} case 10 > c[ansi(\"2012-06-18T12:00\")] * 1000 return {red: 0; green: 0; blue: 255; alpha: 255} case 25 > c[ansi(\"2012-06-18T12:00\")] * 1000 return {red: 218; green: 0; blue: 255; alpha: 255} case 50 > c[ansi(\"2012-06-18T12:00\")] * 1000 return {red: 255; green: 0; blue: 255; alpha: 255} case 100 > c[ansi(\"2012-06-18T12:00\")] * 1000 return {red: 255; green: 164; blue: 0; alpha: 255} case 250 > c[ansi(\"2012-06-18T12:00\")] * 1000 return {red: 255; green: 0; blue: 0; alpha: 255} case 250 <= c[ansi(\"2012-06-18T12:00\")] * 1000 return {red: 51; green: 51; blue: 51; alpha: 255} default return {red: 255; green: 0; blue:0; alpha: 255},\"png\")' target=\"_blank\"> http://earthserver.ecmwf.int/rasdaman/ows?service=WCS&version=2.0.1&request=ProcessCoverages&query=for c in (precipitation) return encode ( switch case 0.5 > c[ansi(\"2012-06-18T12:00\")] * 1000 return {red: 255; green: 255; blue: 255; alpha: 0} case 2 > c[ansi(\"2012-06-18T12:00\")] * 1000 return {red: 0; green: 255; blue: 255; alpha: 255} case 4 > c[ansi(\"2012-06-18T12:00\")] * 1000 return {red: 0; green: 128; blue: 255; alpha: 255} case 10 > c[ansi(\"2012-06-18T12:00\")] * 1000 return {red: 0; green: 0; blue: 255; alpha: 255} case 25 > c[ansi(\"2012-06-18T12:00\")] * 1000 return {red: 218; green: 0; blue: 255; alpha: 255} case 50 > c[ansi(\"2012-06-18T12:00\")] * 1000 return {red: 255; green: 0; blue: 255; alpha: 255} case 100 > c[ansi(\"2012-06-18T12:00\")] * 1000 return {red: 255; green: 164; blue: 0; alpha: 255} case 250 > c[ansi(\"2012-06-18T12:00\")] * 1000 return {red: 255; green: 0; blue: 0; alpha: 255} case 250 <= c[ansi(\"2012-06-18T12:00\")] * 1000 return {red: 51; green: 51; blue: 51; alpha: 255} default return {red: 255; green: 0; blue:0; alpha: 255},\"png\")</a></p>"
   ]
  },
  {
   "cell_type": "markdown",
   "metadata": {},
   "source": [
    "***"
   ]
  },
  {
   "cell_type": "markdown",
   "metadata": {},
   "source": [
    "The examples above shall give you an idea of what data processing and retrieval with a Web Coverage Processing Service is alike. WCPS can deal with far more complex data processing requests. For more information about the variety of data processing possible with WCPS, have a look to the two WCPS webinars available (see [Ressources](#wcps_ressources))."
   ]
  },
  {
   "cell_type": "markdown",
   "metadata": {},
   "source": [
    "The [next tutorial chapter](./04-WCS_access.ipynb) will show you different ways to access and work with a Web Coverage (Processing) Service."
   ]
  },
  {
   "cell_type": "markdown",
   "metadata": {},
   "source": [
    "***"
   ]
  },
  {
   "cell_type": "markdown",
   "metadata": {},
   "source": [
    "## <a id='wcps_ressources'></a>Ressources"
   ]
  },
  {
   "cell_type": "markdown",
   "metadata": {},
   "source": [
    "#### WCPS Webinar Part 1: Introduction"
   ]
  },
  {
   "cell_type": "code",
   "execution_count": 1,
   "metadata": {
    "collapsed": false
   },
   "outputs": [
    {
     "data": {
      "text/html": [
       "\n",
       "        <iframe\n",
       "            width=\"700\"\n",
       "            height=\"400\"\n",
       "            src=\"https://www.youtube.com/embed/MnPABAAQnXM\"\n",
       "            frameborder=\"0\"\n",
       "            allowfullscreen\n",
       "        ></iframe>\n",
       "        "
      ],
      "text/plain": [
       "<IPython.lib.display.YouTubeVideo at 0x7fd8b40b59d0>"
      ]
     },
     "execution_count": 1,
     "metadata": {},
     "output_type": "execute_result"
    }
   ],
   "source": [
    "from IPython.display import YouTubeVideo\n",
    "YouTubeVideo('MnPABAAQnXM', width=700, height=400)"
   ]
  },
  {
   "cell_type": "markdown",
   "metadata": {},
   "source": [
    "  "
   ]
  },
  {
   "cell_type": "markdown",
   "metadata": {},
   "source": [
    "#### WCPS Webinar Part 2: Advanced Queries"
   ]
  },
  {
   "cell_type": "code",
   "execution_count": 2,
   "metadata": {
    "collapsed": false
   },
   "outputs": [
    {
     "data": {
      "text/html": [
       "\n",
       "        <iframe\n",
       "            width=\"700\"\n",
       "            height=\"400\"\n",
       "            src=\"https://www.youtube.com/embed/m1q2AIoQADs\"\n",
       "            frameborder=\"0\"\n",
       "            allowfullscreen\n",
       "        ></iframe>\n",
       "        "
      ],
      "text/plain": [
       "<IPython.lib.display.YouTubeVideo at 0x7fd8b40b5650>"
      ]
     },
     "execution_count": 2,
     "metadata": {},
     "output_type": "execute_result"
    }
   ],
   "source": [
    "YouTubeVideo('m1q2AIoQADs', width=700, height=400)"
   ]
  },
  {
   "cell_type": "markdown",
   "metadata": {},
   "source": [
    "***"
   ]
  },
  {
   "cell_type": "markdown",
   "metadata": {},
   "source": [
    "&copy; 2017 ECMWF\n",
    "\n",
    "This software is licensed under the terms of the Apache Licence Version 2.0 which can be obtained at http://www.apache.org/licenses/LICENSE-2.0. In applying this licence, ECMWF does not waive the privileges and immunities granted to it by virtue of its status as an intergovernmental organisation nor\n",
    "does it submit to any jurisdiction."
   ]
  }
 ],
 "metadata": {
  "kernelspec": {
   "display_name": "Python 2",
   "language": "python",
   "name": "python2"
  },
  "language_info": {
   "codemirror_mode": {
    "name": "ipython",
    "version": 2
   },
   "file_extension": ".py",
   "mimetype": "text/x-python",
   "name": "python",
   "nbconvert_exporter": "python",
   "pygments_lexer": "ipython2",
   "version": "2.7.8"
  }
 },
 "nbformat": 4,
 "nbformat_minor": 0
}
