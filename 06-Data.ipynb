{
 "cells": [
  {
   "cell_type": "markdown",
   "metadata": {},
   "source": [
    "## 06-What data is available at ECMWF's Web Coverage Service?"
   ]
  },
  {
   "cell_type": "markdown",
   "metadata": {},
   "source": [
    "<a href=\"./05-WCS_clients.ipynb\"><< 05-WCS clients</a>&nbsp;<space>&nbsp;<space>&nbsp;<space>&nbsp;<space>&nbsp;<space>&nbsp;<space>&nbsp;<space>&nbsp;<space>&nbsp;<space>&nbsp;<space> <a href=\"./index.ipynb\">Tutorial Index >></a>"
   ]
  },
  {
   "cell_type": "markdown",
   "metadata": {},
   "source": [
    "ECMWF's Web Coverage Service currently holds around 478 GBs of meteorological and hydrological data from two projects:  \n",
    "* [the ERA-interim climate reanalysis project](#era_int), and \n",
    "* [the Global Flood Awareness System](#glofas) [(GloFAS)](http://globalfloods.eu)"
   ]
  },
  {
   "cell_type": "markdown",
   "metadata": {},
   "source": [
    "<b>NOTE</b>  \n",
    "At this point, it is important to mention that the WCS by ECMWF is setup to study and demonstrate the potential of WCS / WCPS services and is not an operational service offered by ECMWF.  \n",
    "\n",
    "It can happen for some periods that the test server will not be accessible or degraded. The current OGC WCS server is not meant to be integrated into any operational applications.  \n",
    "\n",
    "The tables below show data sets currently available by ECMWF's Web Coverage Service. The tables show the data, we think could be of most interest. Since the WCS server is explorative, you might as well find other data sets offered and not explicitly mentioned in the table below."
   ]
  },
  {
   "cell_type": "markdown",
   "metadata": {},
   "source": [
    "***"
   ]
  },
  {
   "cell_type": "markdown",
   "metadata": {},
   "source": [
    "### <a id='era_int'></a>ERA-interim climate reanalysis"
   ]
  },
  {
   "cell_type": "markdown",
   "metadata": {},
   "source": [
    "#### Surface level parameter"
   ]
  },
  {
   "cell_type": "markdown",
   "metadata": {},
   "source": [
    "| Parameter | Coverage name on the server | Time period covered | Spatial resolution | Temporal resolution | Data volume |\n",
    "|------------------------|----------------|------------------|-----------------|-----------------------|-------------|\n",
    "|2 m air temperature|temp2m| 1 January 1979 - 31 December 2015| Global (0.5x0.5 deg)|6-hourly|27 GB|\n",
    "|Sea surface temperature|SST| 1 January 1979 - 31 December 2015| Global (0.5x0.5 deg)|6-hourly|20 GB|\n",
    "|Mean sea level pressure|mslp| 1 January 1979 - 31 December 2015| Global (0.5x0.5 deg)|6-hourly|27 GB|\n",
    "|Volumetric soil moisture|soil_moisture| 1 January 1979 - 31 December 2015| Global (0.5x0.5 deg)|6-hourly|27 GB|"
   ]
  },
  {
   "cell_type": "markdown",
   "metadata": {},
   "source": [
    "#### Accumulated forecast"
   ]
  },
  {
   "cell_type": "markdown",
   "metadata": {},
   "source": [
    "| Parameter | Coverage name on the server | Time period covered | Spatial resolution | Temporal resolution | Data volume |\n",
    "|------------------------|----------------|------------------|-----------------|-----------------------|-------------|\n",
    "|Total precipitation|precipitation| 2 January 1979 - 31 December 2015| Global (0.5x0.5 deg)|6-hourly|27 GB|"
   ]
  },
  {
   "cell_type": "markdown",
   "metadata": {},
   "source": [
    "#### Pressure level (500 / 850 / 1000 hPa)"
   ]
  },
  {
   "cell_type": "markdown",
   "metadata": {},
   "source": [
    "| Parameter | Coverage name on the server | Time period covered | Spatial resolution | Temporal resolution | Data volume |\n",
    "|------------------------|----------------|------------------|-----------------|-----------------------|-------------|\n",
    "|Geopotential height|pl_geopot| 1 January 1979 - 31 December 2015| Global (0.5x0.5 deg)|6-hourly|79 GB|\n",
    "|Temperature|pl_t2m| 1 January 1979 - 31 December 2015| Global (0.5x0.5 deg)|6-hourly|79 GB|\n",
    "|Relative humidity|pl_relhum| 1 January 1979 - 31 December 2015| Global (0.5x0.5 deg)|6-hourly|79 GB|"
   ]
  },
  {
   "cell_type": "markdown",
   "metadata": {},
   "source": [
    "***"
   ]
  },
  {
   "cell_type": "markdown",
   "metadata": {},
   "source": [
    "### <a id='glofas'></a>GloFAS data"
   ]
  },
  {
   "cell_type": "markdown",
   "metadata": {},
   "source": [
    "| Parameter | Coverage name on the server | Time period covered | Spatial resolution | Temporal resolution | Data volume |\n",
    "|------------------------|----------------|------------------|-----------------|-----------------------|-------------|\n",
    "|River discharge forecast|river_discharge_forecast_opt2| 8 April 2008 | Global (0.1x0.1 deg)|daily|31 GB|\n",
    "|Return level discharge|return_level2, return_level5, return_level20| | Global (0.1x0.1 deg)|1 coverage per return level period|0.6 GB|\n",
    "|ERA-interim discharge data|ERA_discharge| 1 January 1981 - 31 December 1989| Global (0.1x0.1 deg)|daily|81 GB|"
   ]
  },
  {
   "cell_type": "markdown",
   "metadata": {},
   "source": [
    "***"
   ]
  },
  {
   "cell_type": "markdown",
   "metadata": {},
   "source": [
    "&copy; 2017 ECMWF\n",
    "\n",
    "This software is licensed under the terms of the Apache Licence Version 2.0 which can be obtained at http://www.apache.org/licenses/LICENSE-2.0. In applying this licence, ECMWF does not waive the privileges and immunities granted to it by virtue of its status as an intergovernmental organisation nor\n",
    "does it submit to any jurisdiction."
   ]
  }
 ],
 "metadata": {
  "kernelspec": {
   "display_name": "Python 2",
   "language": "python",
   "name": "python2"
  },
  "language_info": {
   "codemirror_mode": {
    "name": "ipython",
    "version": 2
   },
   "file_extension": ".py",
   "mimetype": "text/x-python",
   "name": "python",
   "nbconvert_exporter": "python",
   "pygments_lexer": "ipython2",
   "version": "2.7.8"
  }
 },
 "nbformat": 4,
 "nbformat_minor": 0
}
