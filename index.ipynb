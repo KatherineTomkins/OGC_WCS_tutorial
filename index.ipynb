{
 "cells": [
  {
   "cell_type": "markdown",
   "metadata": {},
   "source": [
    "# On-demand geospatial data access via standard webservices | Tutorial"
   ]
  },
  {
   "cell_type": "markdown",
   "metadata": {},
   "source": [
    " "
   ]
  },
  {
   "cell_type": "markdown",
   "metadata": {},
   "source": [
    "This tutorial gives an introduction to the standard data-access protocols [Web Coverage Service](http://www.opengeospatial.org/standards/wcs) (WCS) 2.0 and its extension [Web Coverage Processing Service](http://www.opengeospatial.org/standards/wcps) (WCPS) 1.0.   Both standards are defined by the [Open Geospatial Consortium](http://www.opengeospatial.org) (OGC).  \n",
    "\n",
    "In the framework of the H2020-funded [EarthServer-2](http://earthserver.eu) project, the European Centre of Medium-Range Weather Forecasts (ECMWF) is setting up a WCS server in order to study the feasibility and to demonstrate the potential of efficient web-based data access via WCS and WCPS interfaces. You can find more information about ECMWF's role within EarthServer [here](http://ecmwf.int/en/research/projects/earthserver-2).\n",
    "\n",
    "This tutorial provides (i) a general introduction to web standards for geospatial data and (ii) practical hands-on exercises how to access, retrieve and process data served with a WCS server. \n",
    "\n",
    "After working through the tutorial, you should have a clearer idea of \n",
    "* OGC standards for geospatial data in general,\n",
    "* the purpose and importance of the WCS and WCPS standards,\n",
    "* how data can be accessed, processed and retrieved with the help of a WC(P)S, and\n",
    "* how WC(P)S requests can easily be integrated into processing routines or used to build custom web-applications.  \n",
    "\n",
    "\n",
    "We are very interested in your feedback. Please let us know your experiences working with a WCS service and furthermore, your individual requirements of a web-service like this. We also appreciate any constructive feedback to this tutorial.\n",
    "\n",
    "**Enjoy exploring WCS and WCPS!**\n",
    "\n",
    "\n",
    "***"
   ]
  },
  {
   "cell_type": "markdown",
   "metadata": {},
   "source": [
    "## Tutorial Notebooks"
   ]
  },
  {
   "cell_type": "markdown",
   "metadata": {},
   "source": [
    "The following notebooks contain the tutorial materials."
   ]
  },
  {
   "cell_type": "markdown",
   "metadata": {},
   "source": [
    "#### [01-Introduction to web services and OGC WCS](./01-OGC_WCS.ipynb)"
   ]
  },
  {
   "cell_type": "markdown",
   "metadata": {},
   "source": [
    "#### [02-Web Coverage Service (WCS) core requests](./02-WCS_core_requests.ipynb)"
   ]
  },
  {
   "cell_type": "markdown",
   "metadata": {},
   "source": [
    "#### [03-Extension to the core: Web Coverage Processing Service](./03-WCPS_extension.ipynb)"
   ]
  },
  {
   "cell_type": "markdown",
   "metadata": {},
   "source": [
    "#### [04-How to develop and test Web Coverage (Processing) Service requests?](./04-WCS_access.ipynb)"
   ]
  },
  {
   "cell_type": "markdown",
   "metadata": {},
   "source": [
    "#### [05-WCS clients](./05-WCS_clients.ipynb)"
   ]
  },
  {
   "cell_type": "markdown",
   "metadata": {},
   "source": [
    "#### [06-What data is available at ECMWF's WCS?](./06-Data.ipynb)"
   ]
  },
  {
   "cell_type": "markdown",
   "metadata": {},
   "source": [
    "***"
   ]
  },
  {
   "cell_type": "markdown",
   "metadata": {},
   "source": [
    "## Contact"
   ]
  },
  {
   "cell_type": "markdown",
   "metadata": {},
   "source": [
    "\n",
    "European Centre for Medium-Range Weather Forecasts | Shinfield Park, Reading RG29AX | United Kingdom\n",
    "\n",
    "For any questions related to the WCS service, please contact us via [earthserver@lists.ecmwf.int](mailto:earthserver@lists.ecmwf.int) \n"
   ]
  },
  {
   "cell_type": "markdown",
   "metadata": {},
   "source": [
    "***"
   ]
  },
  {
   "cell_type": "markdown",
   "metadata": {},
   "source": [
    "&copy; 2017 ECMWF\n",
    "\n",
    "This software is licensed under the terms of the Apache Licence Version 2.0 which can be obtained at http://www.apache.org/licenses/LICENSE-2.0. In applying this licence, ECMWF does not waive the privileges and immunities granted to it by virtue of its status as an intergovernmental organisation nor\n",
    "does it submit to any jurisdiction."
   ]
  }
 ],
 "metadata": {
  "kernelspec": {
   "display_name": "Python 2",
   "language": "python",
   "name": "python2"
  },
  "language_info": {
   "codemirror_mode": {
    "name": "ipython",
    "version": 2
   },
   "file_extension": ".py",
   "mimetype": "text/x-python",
   "name": "python",
   "nbconvert_exporter": "python",
   "pygments_lexer": "ipython2",
   "version": "2.7.8"
  }
 },
 "nbformat": 4,
 "nbformat_minor": 0
}
